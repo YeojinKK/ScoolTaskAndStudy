{
 "cells": [
  {
   "cell_type": "markdown",
   "metadata": {},
   "source": [
    "*****도전문제 8.1****\n",
    "\n",
    "휴대폰의 연락처를 contact 라는 이름의 딕셔너리 구조로 표현해 보자. 키-값을 가지도록 항목을 생성하고 이 키:값 정보를 for문을 사용하여 출력해보도록 하자."
   ]
  },
  {
   "cell_type": "code",
   "execution_count": 1,
   "metadata": {},
   "outputs": [
    {
     "name": "stdout",
     "output_type": "stream",
     "text": [
      "성: 홍\n",
      "이름: 길동\n",
      "직장: 00기업\n"
     ]
    }
   ],
   "source": [
    "\n",
    "contact = {\"성\": \"홍\",\"이름\": \"길동\",\"직장\": \"00기업\"}\n",
    "for key, value in contact.items():\n",
    "    print(f\"{key}: {value}\")\n"
   ]
  },
  {
   "cell_type": "markdown",
   "metadata": {},
   "source": [
    "*****도전문제 8.2****\n",
    "\n",
    "편의점에 다음과 같은 물건들이 있다. 이들은 (물건 이름: 재고)가 키-값 쌍을 이루고 있다. \n",
    "\n",
    "이들을 한글 오름차순으로 정렬하여 출력하여라.(람다 함수 사용)\n",
    "\n",
    "stores = {'coffee':7,'pen':3,'paper cup':2,'milk':8,'coke':4,'book':5}"
   ]
  },
  {
   "cell_type": "code",
   "execution_count": null,
   "metadata": {},
   "outputs": [
    {
     "name": "stdout",
     "output_type": "stream",
     "text": [
      "우유: 8\n",
      "종이컵: 2\n",
      "책: 5\n",
      "커피: 7\n",
      "콜라: 4\n",
      "펜: 3\n"
     ]
    }
   ],
   "source": [
    "stores = {'커피': 7, '펜': 3, '종이컵': 2, '우유': 8, '콜라': 4, '책': 5}\n",
    "stored_items = sorted(stores.items(), key=lambda item: item[0])\n",
    "for key, value in stored_items:\n",
    "    print(f\"{key}: {value}\")\n"
   ]
  },
  {
   "cell_type": "markdown",
   "metadata": {},
   "source": [
    "*****도전문제 8.3****\n",
    "\n",
    "위의 편의점 재고 관리 프로그램을 업그레이드 해보자. \n",
    "\n",
    "재고를 증가, 감소 시킬 수 있도록 코드를 추가하여 보자. 재고조회, 입고, 출고와 같은 간단한 메뉴도 만들어라.\n",
    "\n",
    "(while 문을 사용하여 무한 루프를 만들자. 루프를 종료하는 기능은 break이다.)"
   ]
  },
  {
   "cell_type": "code",
   "execution_count": null,
   "metadata": {},
   "outputs": [
    {
     "name": "stdout",
     "output_type": "stream",
     "text": [
      "\n",
      "현재 재고:\n",
      "우유: 8\n",
      "종이컵: 2\n",
      "책: 5\n",
      "커피: 7\n",
      "콜라: 4\n",
      "펜: 3\n"
     ]
    }
   ],
   "source": [
    "stores = {'커피': 7, '펜': 3, '종이컵': 2, '우유': 8, '콜라': 4, '책': 5}\n",
    "\n",
    "def display_inventory():\n",
    "    print(\"\\n현재 재고:\")\n",
    "    for item, stock in sorted(stores.items()):\n",
    "        print(f\"{item}: {stock}\")\n",
    "\n",
    "while True:\n",
    "   \n",
    "    choice = input(\"메뉴를 선택하세요 1.재고조회 2.입고 3.출고 4.종료 \")\n",
    "\n",
    "    if choice == '1':\n",
    "        display_inventory()\n",
    "    elif choice == '2':\n",
    "        item = input(\"입고할 물건 이름: \").strip()\n",
    "        qty = int(input(\"입고할 수량: \"))\n",
    "        stores[item] = stores.get(item, 0) + qty\n",
    "        print(f\"{item}의 현재 재고: {stores[item]}\")\n",
    "    elif choice == '3':\n",
    "        item = input(\"출고할 물건 이름: \").strip()\n",
    "        qty = int(input(\"출고할 수량: \"))\n",
    "        if stores.get(item, 0) >= qty:\n",
    "            stores[item] -= qty\n",
    "            print(f\"{item}의 현재 재고: {stores[item]}\")\n",
    "        else:\n",
    "            print(f\"{item}의 재고가 부족합니다. 현재 재고: {stores.get(item, 0)}\")\n",
    "    elif choice == '4':\n",
    "        print(\"프로그램을 종료합니다.\")\n",
    "        break"
   ]
  },
  {
   "cell_type": "markdown",
   "metadata": {},
   "source": [
    "*****도전문제****** \n",
    "\n",
    "(1) 파티 a,파티b에 참석한 사람들을 중복되지 않게 다음과 같이 출력하여라.\n",
    "\n",
    "(2) 파티a, 파티b 중 한군데만 참석한 사람들을 출력하여라.\n",
    "\n",
    "(3) 파티 a에만 참석한 사람들을 출력하여라."
   ]
  },
  {
   "cell_type": "code",
   "execution_count": 2,
   "metadata": {},
   "outputs": [
    {
     "name": "stdout",
     "output_type": "stream",
     "text": [
      "1번 문제 답: {'choi', 'kim', 'lee', 'park'}\n",
      "2번 문제 답: {'choi', 'kim', 'lee'}\n",
      "3번 문제 답: {'kim', 'lee'}\n"
     ]
    }
   ],
   "source": [
    "A={'park','kim','lee'}\n",
    "B={'park','choi'}\n",
    "print('1번 문제 답:',A.union(B))\n",
    "print('2번 문제 답:',A.union(B)-A.intersection(B))\n",
    "print('3번 문제 답:',A.difference(B))"
   ]
  },
  {
   "cell_type": "markdown",
   "metadata": {},
   "source": [
    "*****주관식 문제*****\n",
    "\n",
    "(1) (딕셔너리)는 리스트와 유사하게 연속된 값을 지정. 키-값 쌍으로 이루어진 자료구조이다.\n",
    "\n",
    "(2) 공백 리스트는 대괄호[]기호로 생성한다. 딕셔너리는 (중괄호)로 생성한다.\n",
    "\n",
    "(3) 딕셔너리에서 사용되는 모든 값을 출력하려면, (keys())메소드를 사용한다.\n",
    "\n",
    "(4) 딕셔너리에서 사용되는 모든 값을 출력하려면(values())메소드를 사용한다.\n",
    "\n",
    "(5) 딕셔너리 내부의 모든 값을 출력하려면 (items())메소드를 출력한다.\n",
    "\n",
    "(6) 리스트와 딕셔너리에서 요소들을 모두 삭제하는 메소드는(clear())이다.\n",
    "\n",
    "(7) (람다함수)는 함수의 이름이 없는 1회용 합수이다. \n",
    "\n",
    "(8) (집합)은 순서가 없는 자료형이다. 동일한 값을 가지는 항목의 중복을 허용하지 않는다.\n",
    "\n",
    "(9) 집합에서 하나의 요소를 추가하려면 (add)메소드를 사용한다.\n",
    "\n",
    "(10) 합집합은 2개의 집합을 합하는 연산으로 (|)연산자나 (union)메소드를 사용한다.\n",
    "\n",
    "(11) 교집합은 2개의 집합에서 겹치는 요소를 구하는 연산으로 (&)연산자나 (intersection)메소드를 사용한다.\n",
    "\n",
    "(12) 차집합은 하나의 집합에서 다른 집합의 요소를 빼는 연산자로 (-)연산자나 (difference)메소드를 사용한다.\n",
    "\n",
    "(13) 대칭차집합은 두 집합의 합집합에서 교집합을 뺀 요소를 구하는 연산으로 (^) 연산자나(symmetric difference)메소드를 사용한다. \n"
   ]
  },
  {
   "cell_type": "markdown",
   "metadata": {},
   "source": [
    "*****심화문제8.1*****\n",
    "\n",
    "철수네 과일가게는 사과 배 수박 귳 포도를 판매하는 중이다. 매일 입고되는 가격에 따라서 가격이 결정되므로 아침마다 각 과일의 가격을 입력하는 기능을 만들어서 입력하면 이를 출력하는 파이썬 프로그램을 작성하여라"
   ]
  },
  {
   "cell_type": "code",
   "execution_count": null,
   "metadata": {},
   "outputs": [
    {
     "name": "stdout",
     "output_type": "stream",
     "text": [
      "{'사과': 333, '배': 333, '수박': 222, '귤': 222, '포도': 111}\n"
     ]
    }
   ],
   "source": [
    "fruit_dict = {}\n",
    "fruit_names = ['사과', '배', '수박', '귤', '포도']\n",
    "prices = input('사과, 배, 수박, 귤, 포도의 가격을 공백으로 구분하여 입력하세요: ').split()\n",
    "for name, price in zip(fruit_names, prices):\n",
    "    fruit_dict[name] = int(price)  \n",
    "print(fruit_dict)"
   ]
  },
  {
   "cell_type": "markdown",
   "metadata": {},
   "source": [
    "*****심화문제8.2*****\n",
    "\n",
    "위의 정보를 이용하여 고객이 과일의 이름을 입력하면 그 가격을 알려주는 프로그램을 작성하여라\n"
   ]
  },
  {
   "cell_type": "code",
   "execution_count": null,
   "metadata": {},
   "outputs": [],
   "source": [
    "\n",
    "fruit_dict = {}\n",
    "fruit_names = ['사과', '배', '수박', '귤', '포도']\n",
    "prices = input('사과, 배, 수박, 귤, 포도의 가격을 공백으로 구분하여 입력하세요: ').split()\n",
    "for name, price in zip(fruit_names, prices):\n",
    "    fruit_dict[name] = int(price)  \n",
    "while True:\n",
    "    query = input(\"\\n가격을 확인할 과일 이름을 입력하세요 (종료하려면 '끝' 입력): \").strip()\n",
    "    if query == '끝':\n",
    "        print(\"프로그램을 종료합니다.\")\n",
    "        break\n",
    "    elif query in fruit_dict:\n",
    "        print(f\"{query}의 가격은 {fruit_dict[query]}원입니다.\")\n",
    "    else:\n",
    "        print(f\"{query}는(은) 목록에 없습니다.\")\n"
   ]
  },
  {
   "cell_type": "markdown",
   "metadata": {},
   "source": [
    "*****심화문제8.3*****\n",
    "\n",
    "학번, 이름, 전화번호의 3쌍의 요소를 가지는 student_tup라는 튜플이 존재한다.\n",
    "\n",
    "(1) 튜플을 수정하여 학번:[이름,전화번호]의 쌍으로 이루어진 딕셔너리를 만들어서 출력하여라\n",
    "\n",
    "(2) 이 정보를 이용하여 학생의 학번을 입력으로 받아서 이름과 전화번호를 출력하는 학사 정보 프로그램을 작성하여라.\n",
    "\n",
    "(3) 튜플의 마지막 항목으로 직전학기의 학점을 추가하여라. 학생의 학점은 각각 4.3  3.9  4.25 이다.\n",
    "\n",
    "(4) for반복문과 인덱싱을 통해서 세 학생의 학점의 평균값을 다음과 같이 출력하여라.\n",
    "    > 전체 학생의 학점 평균 : 4.15"
   ]
  },
  {
   "cell_type": "code",
   "execution_count": 14,
   "metadata": {},
   "outputs": [
    {
     "name": "stdout",
     "output_type": "stream",
     "text": [
      "1번문제: {'241101': ('박동윤', '010-1234-4500')} {'241102': ('김은지', '010-1234-2230')} {'241103': ('박동윤', '010-1234-6540')}\n",
      "2번문제 이름: 박동윤, 전화번호: 010-1234-4500\n",
      "프로그램을 종료합니다.\n",
      "3번문제: {'241101': ('박동윤', '010-1234-4500', 4.3)} {'241102': ('김은지', '010-1234-2230', 3.9)} {'241103': ('박동윤', '010-1234-6540', 4.25)}\n",
      "세 학생의 학점 평균값: 4.15\n"
     ]
    }
   ],
   "source": [
    "student_info1={'241101':('박동윤','010-1234-4500')}\n",
    "student_info2={'241102':('김은지','010-1234-2230')}\n",
    "student_info3={'241103':('박동윤','010-1234-6540')}\n",
    "print('1번문제:',student_info1,student_info2,student_info3)\n",
    "\n",
    "\n",
    "student_dict = {**student_info1, **student_info2, **student_info3}\n",
    "\n",
    "\n",
    "while True:\n",
    "    student_id = input(\"\\n학번을 입력하세요 (종료하려면 '끝' 입력): \").strip()\n",
    "    if student_id == '끝':\n",
    "        print(\"프로그램을 종료합니다.\")\n",
    "        break\n",
    "    elif student_id in student_dict:\n",
    "        name, phone = student_dict[student_id]\n",
    "        print('2번문제',f\"이름: {name}, 전화번호: {phone}\")\n",
    "    else:\n",
    "        print(f\"{student_id} 학번의 학생 정보를 찾을 수 없습니다.\")\n",
    "\n",
    "new_student_data1={'241101':('박동윤','010-1234-4500',4.3)}\n",
    "new_student_data2={'241102':('김은지','010-1234-2230',3.9)}\n",
    "new_student_data3={'241103':('박동윤','010-1234-6540',4.25)}\n",
    "print('3번문제:',new_student_data1,new_student_data2,new_student_data3)\n",
    "\n",
    "new_student_dict = {**new_student_data1, **new_student_data2, **new_student_data3}\n",
    "total_gpa = sum(student[2] for student in new_student_dict.values())\n",
    "average_gpa = total_gpa / len(new_student_dict)\n",
    "print(f\"세 학생의 학점 평균값: {average_gpa:.2f}\")"
   ]
  },
  {
   "cell_type": "markdown",
   "metadata": {},
   "source": [
    "*****심화문제 8.4*****\n",
    "\n",
    "lis=[10,30,40,50,30,30,20,20,20,10,30]\n",
    "\n",
    "(1)중복이 없는 원소를 출력하도록 하여라\n",
    "\n",
    "(2) 중복되는 원소를 한 번씩만 출력하도록 하여라\n",
    "\n",
    "(3) 중복 빈도를 출력하여라"
   ]
  },
  {
   "cell_type": "code",
   "execution_count": null,
   "metadata": {},
   "outputs": [
    {
     "name": "stdout",
     "output_type": "stream",
     "text": [
      "8.4(1) 결과: [40, 50]\n",
      "8.4(2) 결과: 10\n",
      "8.4(2) 결과: 20\n",
      "8.4(2) 결과: 30\n",
      "8.4(3) 결과: 1\n",
      "8.4(3) 결과: 1\n",
      "8.4(3) 결과: 1\n"
     ]
    }
   ],
   "source": [
    "#(1)\n",
    "lis=[10,30,40,50,30,30,20,20,20,10,30]\n",
    "make_set = set(lis)\n",
    "unique_values = [x for x in make_set if lis.count(x) == 1]\n",
    "print('8.4(1) 결과:',unique_values)\n",
    "\n",
    "#(2)\n",
    "make_set2 = set(lis)\n",
    "unique_values2 = [x for x in make_set2 if lis.count(x) > 1]\n",
    "for value in unique_values2:\n",
    "    print('8.4(2) 결과:',value)\n",
    "\n",
    "#(3)\n",
    "make_set3 = set(lis)\n"
   ]
  },
  {
   "cell_type": "markdown",
   "metadata": {},
   "source": [
    "*****심화문제 8.5*****\n",
    "\n",
    "\n",
    "lab 8-2의 영한사전을 확장. 확장할 명령은 v로 이를 입력할 경우 다음과 같이 사전에 등록된 단어와 그 뜻을 출력"
   ]
  },
  {
   "cell_type": "code",
   "execution_count": null,
   "metadata": {},
   "outputs": [
    {
     "name": "stdout",
     "output_type": "stream",
     "text": [
      "사전프로그램 시작 ... q를 입력 시 종료\n",
      "입력 오류\n",
      "입력 오류\n",
      "입력 오류\n",
      "입력 오류\n",
      "입력 오류\n",
      "입력 오류\n"
     ]
    },
    {
     "ename": "IndexError",
     "evalue": "string index out of range",
     "output_type": "error",
     "traceback": [
      "\u001b[1;31m---------------------------------------------------------------------------\u001b[0m",
      "\u001b[1;31mIndexError\u001b[0m                                Traceback (most recent call last)",
      "Cell \u001b[1;32mIn[20], line 6\u001b[0m\n\u001b[0;32m      4\u001b[0m \u001b[38;5;28;01mwhile\u001b[39;00m \u001b[38;5;28;01mTrue\u001b[39;00m:\n\u001b[0;32m      5\u001b[0m     st\u001b[38;5;241m=\u001b[39m\u001b[38;5;28minput\u001b[39m(\u001b[38;5;124m'\u001b[39m\u001b[38;5;124m$  \u001b[39m\u001b[38;5;124m'\u001b[39m)\n\u001b[1;32m----> 6\u001b[0m     command\u001b[38;5;241m=\u001b[39m\u001b[43mst\u001b[49m\u001b[43m[\u001b[49m\u001b[38;5;241;43m0\u001b[39;49m\u001b[43m]\u001b[49m\n\u001b[0;32m      7\u001b[0m     \u001b[38;5;28;01mif\u001b[39;00m command \u001b[38;5;241m==\u001b[39m \u001b[38;5;124m'\u001b[39m\u001b[38;5;124m<\u001b[39m\u001b[38;5;124m'\u001b[39m:\n\u001b[0;32m      8\u001b[0m         st \u001b[38;5;241m=\u001b[39m st[\u001b[38;5;241m1\u001b[39m:]\n",
      "\u001b[1;31mIndexError\u001b[0m: string index out of range"
     ]
    }
   ],
   "source": [
    "print('사전 프로그램 시작 종료는 q를 입력')\n",
    "dictionary = {}\n",
    "dictionary={'one':'하나','two':'둘','home':'집','Korea':'한국'}\n",
    "while True:\n",
    "    st = input('$ ')\n",
    "    command = st[0]\n",
    "    if command == '<':\n",
    "        st = st[1:]\n",
    "        inputStr = st.split(':')\n",
    "        if len(input < 2):\n",
    "            print('입력오류 발생')\n",
    "        else:\n",
    "            dictionary[inputStr[0].strip()] = inputStr[1].strip()\n",
    "    elif command == '>':\n",
    "        st = st[1:]\n",
    "        inputStr = st.strip()\n",
    "        if inputStr in dictionary:\n",
    "            print(dictionary[inputStr])\n",
    "        else:\n",
    "            print('{}가 사전에 없습니다.'.format(inputStr))\n",
    "    elif command == 'q':\n",
    "        break\n",
    "    else:\n",
    "        print('입력오류 발생.')\n",
    "print('프로그램을 종료합니다.')"
   ]
  },
  {
   "cell_type": "markdown",
   "metadata": {},
   "source": [
    "*****심화문제 8.6*****\n",
    "\n",
    "\n",
    "student_tuple =[('241101','강이안','010-123-1111'),('241102','박동민','010-333-4444'),('241103','김수정','010-124-2222')]\n",
    "\n",
    "\n",
    "튜플을 요소로 가지는 student_tuple 리스트가 다음과 같이 있다. 이 튜플의 요소가 되는 튜플은 위와 같이 (학번,이름,전화번호)로 이루어져있다.\n",
    "\n",
    "\n",
    "(1)이 튜플을 이용하여 (학번:이름)의 딕셔너리를 만들어 다음과 같이 출력하여라\n",
    "\n",
    "241101 : 강이안\n",
    "\n",
    "241102 : 박동민\n",
    "\n",
    "241103 : 김수정\n",
    "\n",
    "\n",
    "(2) 이 튜플을 이용하여 학번으로 학생의 정보를 조회를 할 경우  학번, 이름과 전화번호가 출력되도록 하여라.\n",
    " \n",
    "학번을 입력하세요: 241103\n",
    "241103학생은 김수정이며, 전화번호는 010-124-2222입니다."
   ]
  },
  {
   "cell_type": "code",
   "execution_count": 6,
   "metadata": {},
   "outputs": [
    {
     "name": "stdout",
     "output_type": "stream",
     "text": [
      "241101 : 강이안\n",
      "241102 : 박동민\n",
      "241103 : 김수정\n",
      "241103학생은 김수정이며, 전화번호는 010-124-2222입니다.\n"
     ]
    }
   ],
   "source": [
    "\n",
    "#(1)\n",
    "student_tuple = [('241101', '강이안', '010-123-1111'),('241102', '박동민', '010-333-4444'),('241103', '김수정', '010-124-2222')]\n",
    "student_dict = {student[0]: student[1] for student in student_tuple}\n",
    "for student_id, name in student_dict.items():\n",
    "    print(f\"{student_id} : {name}\")\n",
    "#(2)\n",
    "def get_student_info(student_id):\n",
    "    for student in student_tuple:\n",
    "        if student[0] == student_id:\n",
    "            print(f\"{student_id}학생은 {student[1]}이며, 전화번호는 {student[2]}입니다.\")\n",
    "            return\n",
    "    print(\"해당 학번의 학생이 없습니다.\")\n",
    "\n",
    "\n",
    "input_id = input(\"학번을 입력하세요: \")\n",
    "get_student_info(input_id)\n"
   ]
  },
  {
   "cell_type": "markdown",
   "metadata": {},
   "source": [
    "*****심화문제 8.7*****\n",
    "\n",
    "\n",
    "다음과 같이 튜플(m,n)을 요소로 가지는 리스트 mylist가 있다.\n",
    "\n",
    "사용자로부터 a,b의 두 값을 입력으로 받아서 (a,b) 값을 가지는 튜플이 있을 경우,'x번째에 (a,b) 요소가 있습니다.'를 출력하여라.\n",
    "\n",
    " 만일 (a,b)요소는 없으나 (b,a)요소가 있을 경우 '(a,b)요소는 없으나 y번째에(b,a)요소가 있습니다.'를 출력하여라. \n",
    " \n",
    " 만일 (a,b)요소나 (b,a)요소가 없을 경우에는 '이 요소는 없습니다.'를 출력하여라\n",
    "\n",
    "mylist=[(1,2),(4,5),(4,2),(3,1),(9,4)]"
   ]
  },
  {
   "cell_type": "code",
   "execution_count": 15,
   "metadata": {},
   "outputs": [
    {
     "name": "stdout",
     "output_type": "stream",
     "text": [
      "이 요소는 없습니다.\n"
     ]
    }
   ],
   "source": [
    "mylist = [(1, 2), (4, 5), (4, 2), (3, 1), (9, 4)]\n",
    "a, b = map(int, input(\"두 정수 a, b를 공백으로 구분하여 입력하세요: \").split())\n",
    "target1 = (a, b)\n",
    "target2 = (b, a)\n",
    "if target1 in mylist:\n",
    "    index = mylist.index(target1) + 1\n",
    "    print(f\"x번째에 {target1} 요소가 있습니다.\")\n",
    "elif target2 in mylist:\n",
    "    index = mylist.index(target2) + 1\n",
    "    print(f\"{target1} 요소는 없으나 {index}번째에 {target2} 요소가 있습니다.\")\n",
    "else:\n",
    "    print(\"이 요소는 없습니다.\")\n"
   ]
  }
 ],
 "metadata": {
  "kernelspec": {
   "display_name": "Python 3",
   "language": "python",
   "name": "python3"
  },
  "language_info": {
   "codemirror_mode": {
    "name": "ipython",
    "version": 3
   },
   "file_extension": ".py",
   "mimetype": "text/x-python",
   "name": "python",
   "nbconvert_exporter": "python",
   "pygments_lexer": "ipython3",
   "version": "3.12.2"
  }
 },
 "nbformat": 4,
 "nbformat_minor": 2
}
